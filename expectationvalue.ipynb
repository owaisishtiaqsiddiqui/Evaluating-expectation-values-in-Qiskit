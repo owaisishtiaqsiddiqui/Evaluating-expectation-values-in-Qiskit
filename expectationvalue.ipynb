{
 "cells": [
  {
   "cell_type": "markdown",
   "metadata": {},
   "source": [
    "# How to calculate expectation value of an operator in qiskit"
   ]
  },
  {
   "cell_type": "code",
   "execution_count": 33,
   "metadata": {},
   "outputs": [
    {
     "name": "stdout",
     "output_type": "stream",
     "text": [
      "0.25.2\n"
     ]
    }
   ],
   "source": [
    "import qiskit\n",
    "print(qiskit.__version__)"
   ]
  },
  {
   "cell_type": "code",
   "execution_count": 10,
   "metadata": {},
   "outputs": [],
   "source": [
    "from qiskit import QuantumCircuit, execute, Aer\n",
    "import numpy as np\n",
    "from qiskit.opflow import Z, X, I, StateFn, PauliSumOp, AerPauliExpectation, CircuitOp, CircuitStateFn\n",
    "from qiskit.algorithms.optimizers import COBYLA, SPSA, SLSQP\n",
    "from qiskit.circuit.library import RealAmplitudes\n",
    "from qiskit.utils import QuantumInstance\n",
    "from qiskit.algorithms import VQE\n",
    "from qiskit.algorithms import MinimumEigensolverResult\n",
    "from qiskit.algorithms import QAOA"
   ]
  },
  {
   "cell_type": "code",
   "execution_count": 36,
   "metadata": {},
   "outputs": [
    {
     "name": "stderr",
     "output_type": "stream",
     "text": [
      "C:\\Users\\Owais\\AppData\\Local\\Temp\\ipykernel_24108\\3673262404.py:7: DeprecationWarning: The class ``qiskit.opflow.primitive_ops.circuit_op.CircuitOp`` is deprecated as of qiskit-terra 0.24.0. It will be removed no earlier than 3 months after the release date. For code migration guidelines, visit https://qisk.it/opflow_migration.\n",
      "  op = CircuitOp(qc)\n"
     ]
    },
    {
     "name": "stdout",
     "output_type": "stream",
     "text": [
      "     ┌───┐\n",
      "q_0: ┤ Z ├\n",
      "     ├───┤\n",
      "q_1: ┤ Z ├\n",
      "     └───┘\n"
     ]
    },
    {
     "data": {
      "image/png": "[encoded data removed]",
      "text/plain": [
       "<Figure size 203.683x200.667 with 1 Axes>"
      ]
     },
     "execution_count": 36,
     "metadata": {},
     "output_type": "execute_result"
    }
   ],
   "source": [
    "# Step 1: Prepare the quantum state\n",
    "# For this example, we'll prepare a Bell state\n",
    "qc = QuantumCircuit(2)\n",
    "qc.z(0)\n",
    "qc.z(1)\n",
    "\n",
    "op = CircuitOp(qc)\n",
    "print(op)\n",
    "qc.draw(\"mpl\")"
   ]
  },
  {
   "cell_type": "code",
   "execution_count": 37,
   "metadata": {},
   "outputs": [
    {
     "name": "stdout",
     "output_type": "stream",
     "text": [
      "-1.0523732 * II\n",
      "+ 0.39793742 * IZ\n",
      "- 0.3979374 * ZI\n",
      "- 0.0112801 * ZZ\n",
      "+ 0.18093119 * XX\n"
     ]
    }
   ],
   "source": [
    "# provide some coefficient as weight to observable O in this case X\n",
    "\n",
    "op = (-1.0523732*I^I) + (0.39793742*I^Z) - (0.3979374*Z^I) +(-0.0112801 * Z^Z) + (0.18093119 * X^X) \n",
    "print(op)"
   ]
  },
  {
   "cell_type": "code",
   "execution_count": 41,
   "metadata": {},
   "outputs": [
    {
     "name": "stdout",
     "output_type": "stream",
     "text": [
      "CircuitStateFn(\n",
      "     ┌───┐\n",
      "q_0: ┤ X ├\n",
      "     ├───┤\n",
      "q_1: ┤ X ├\n",
      "     └───┘\n",
      ")\n"
     ]
    },
    {
     "name": "stderr",
     "output_type": "stream",
     "text": [
      "C:\\Users\\Owais\\AppData\\Local\\Temp\\ipykernel_24108\\3844667968.py:7: DeprecationWarning: The class ``qiskit.opflow.state_fns.circuit_state_fn.CircuitStateFn`` is deprecated as of qiskit-terra 0.24.0. It will be removed no earlier than 3 months after the release date. For code migration guidelines, visit https://qisk.it/opflow_migration.\n",
      "  psii = CircuitStateFn(psi)\n"
     ]
    },
    {
     "data": {
      "image/png": "[encoded data removed]",
      "text/plain": [
       "<Figure size 203.683x200.667 with 1 Axes>"
      ]
     },
     "execution_count": 41,
     "metadata": {},
     "output_type": "execute_result"
    }
   ],
   "source": [
    "# define the state  which you want the expectation value\n",
    "psi = QuantumCircuit(2)\n",
    "psi.x(0)\n",
    "psi.x(1)\n",
    "\n",
    "# convert to a state\n",
    "psii = CircuitStateFn(psi)\n",
    "\n",
    "print(psii)\n",
    "psi.draw(\"mpl\", style=\"iqx\")"
   ]
  },
  {
   "cell_type": "code",
   "execution_count": 43,
   "metadata": {},
   "outputs": [
    {
     "name": "stdout",
     "output_type": "stream",
     "text": [
      "Exact expectationValue -1.0636533199999998\n"
     ]
    }
   ],
   "source": [
    "print(\"Exact expectationValue\", psii.adjoint().compose(op).compose(psii).eval().real)"
   ]
  },
  {
   "cell_type": "code",
   "execution_count": 44,
   "metadata": {},
   "outputs": [
    {
     "name": "stdout",
     "output_type": "stream",
     "text": [
      "ComposedOp([\n",
      "  OperatorMeasurement(-1.0523732 * II\n",
      "  + 0.39793742 * IZ\n",
      "  - 0.3979374 * ZI\n",
      "  - 0.0112801 * ZZ\n",
      "  + 0.18093119 * XX),\n",
      "  CircuitStateFn(\n",
      "       ┌───┐\n",
      "  q_0: ┤ X ├\n",
      "       ├───┤\n",
      "  q_1: ┤ X ├\n",
      "       └───┘\n",
      "  )\n",
      "])\n"
     ]
    },
    {
     "name": "stderr",
     "output_type": "stream",
     "text": [
      "C:\\Users\\Owais\\AppData\\Local\\Temp\\ipykernel_24108\\654554329.py:3: DeprecationWarning: The class ``qiskit.opflow.state_fns.operator_state_fn.OperatorStateFn`` is deprecated as of qiskit-terra 0.24.0. It will be removed no earlier than 3 months after the release date. For code migration guidelines, visit https://qisk.it/opflow_migration.\n",
      "  measurement_expression = StateFn(op, is_measurement = True).compose(psii)\n"
     ]
    }
   ],
   "source": [
    "from qiskit.opflow.state_fns import StateFn\n",
    "\n",
    "measurement_expression = StateFn(op, is_measurement = True).compose(psii)\n",
    "print(measurement_expression)"
   ]
  },
  {
   "cell_type": "code",
   "execution_count": 45,
   "metadata": {},
   "outputs": [
    {
     "name": "stdout",
     "output_type": "stream",
     "text": [
      "SummedOp([\n",
      "  ComposedOp([\n",
      "    OperatorMeasurement(0.18093119 * ZZ\n",
      "    - 1.0523732 * II),\n",
      "    CircuitStateFn(\n",
      "         ┌───┐┌───┐\n",
      "    q_0: ┤ X ├┤ H ├\n",
      "         ├───┤├───┤\n",
      "    q_1: ┤ X ├┤ H ├\n",
      "         └───┘└───┘\n",
      "    )\n",
      "  ]),\n",
      "  ComposedOp([\n",
      "    OperatorMeasurement(0.39793742 * IZ\n",
      "    - 0.3979374 * ZI\n",
      "    - 0.0112801 * ZZ),\n",
      "    CircuitStateFn(\n",
      "         ┌───┐\n",
      "    q_0: ┤ X ├\n",
      "         ├───┤\n",
      "    q_1: ┤ X ├\n",
      "         └───┘\n",
      "    )\n",
      "  ])\n",
      "])\n"
     ]
    },
    {
     "name": "stderr",
     "output_type": "stream",
     "text": [
      "C:\\Users\\Owais\\AppData\\Local\\Temp\\ipykernel_24108\\261632645.py:3: DeprecationWarning: The class ``qiskit.opflow.expectations.pauli_expectation.PauliExpectation`` is deprecated as of qiskit-terra 0.24.0. It will be removed no earlier than 3 months after the release date. For code migration guidelines, visit https://qisk.it/opflow_migration.\n",
      "  expectation = PauliExpectation().convert(measurement_expression)\n"
     ]
    }
   ],
   "source": [
    "from qiskit.opflow.expectations import PauliExpectation\n",
    "# convert pauli measurement back to z basis\n",
    "expectation = PauliExpectation().convert(measurement_expression)\n",
    "print(expectation)"
   ]
  },
  {
   "cell_type": "code",
   "execution_count": 46,
   "metadata": {},
   "outputs": [
    {
     "name": "stderr",
     "output_type": "stream",
     "text": [
      "C:\\Users\\Owais\\AppData\\Local\\Temp\\ipykernel_24108\\1075136291.py:5: DeprecationWarning: The class ``qiskit.opflow.converters.circuit_sampler.CircuitSampler`` is deprecated as of qiskit-terra 0.24.0. It will be removed no earlier than 3 months after the release date. For code migration guidelines, visit https://qisk.it/opflow_migration.\n",
      "  sampler = CircuitSampler(simulator).convert(expectation)\n"
     ]
    },
    {
     "name": "stdout",
     "output_type": "stream",
     "text": [
      "Sampled:  -1.0714277070703122\n"
     ]
    }
   ],
   "source": [
    "from qiskit.opflow.converters import CircuitSampler\n",
    "from qiskit.providers.aer import QasmSimulator\n",
    "\n",
    "simulator = QasmSimulator()\n",
    "sampler = CircuitSampler(simulator).convert(expectation)\n",
    "\n",
    "print(\"Sampled: \", sampler.eval().real)"
   ]
  },
  {
   "cell_type": "code",
   "execution_count": 48,
   "metadata": {},
   "outputs": [
    {
     "name": "stderr",
     "output_type": "stream",
     "text": [
      "C:\\Users\\Owais\\AppData\\Local\\Temp\\ipykernel_24108\\3602720768.py:5: DeprecationWarning: The class ``qiskit.utils.quantum_instance.QuantumInstance`` is deprecated as of qiskit-terra 0.24.0. It will be removed no earlier than 3 months after the release date. For code migration guidelines, visit https://qisk.it/qi_migration.\n",
      "  qi = QuantumInstance(backend=backend, shots=1024)\n",
      "C:\\Users\\Owais\\AppData\\Local\\Temp\\ipykernel_24108\\3602720768.py:8: DeprecationWarning: The class ``qiskit.opflow.state_fns.operator_state_fn.OperatorStateFn`` is deprecated as of qiskit-terra 0.24.0. It will be removed no earlier than 3 months after the release date. For code migration guidelines, visit https://qisk.it/opflow_migration.\n",
      "  measurable_expression = StateFn(op, is_measurement=True).compose(psii)\n",
      "C:\\Users\\Owais\\AppData\\Local\\Temp\\ipykernel_24108\\3602720768.py:12: DeprecationWarning: The class ``qiskit.opflow.expectations.pauli_expectation.PauliExpectation`` is deprecated as of qiskit-terra 0.24.0. It will be removed no earlier than 3 months after the release date. For code migration guidelines, visit https://qisk.it/opflow_migration.\n",
      "  expectation = PauliExpectation().convert(measurable_expression)\n",
      "C:\\Users\\Owais\\AppData\\Local\\Temp\\ipykernel_24108\\3602720768.py:16: DeprecationWarning: The class ``qiskit.opflow.converters.circuit_sampler.CircuitSampler`` is deprecated as of qiskit-terra 0.24.0. It will be removed no earlier than 3 months after the release date. For code migration guidelines, visit https://qisk.it/opflow_migration.\n",
      "  sampler = CircuitSampler(backend=backend).convert(expectation)\n"
     ]
    },
    {
     "name": "stdout",
     "output_type": "stream",
     "text": [
      "ComposedOp([\n",
      "  OperatorMeasurement(-1.0523732 * II\n",
      "  + 0.39793742 * IZ\n",
      "  - 0.3979374 * ZI\n",
      "  - 0.0112801 * ZZ\n",
      "  + 0.18093119 * XX),\n",
      "  CircuitStateFn(\n",
      "       ┌───┐\n",
      "  q_0: ┤ X ├\n",
      "       ├───┤\n",
      "  q_1: ┤ X ├\n",
      "       └───┘\n",
      "  )\n",
      "])\n",
      "SummedOp([\n",
      "  ComposedOp([\n",
      "    OperatorMeasurement(0.18093119 * ZZ\n",
      "    - 1.0523732 * II),\n",
      "    CircuitStateFn(\n",
      "         ┌───┐┌───┐\n",
      "    q_0: ┤ X ├┤ H ├\n",
      "         ├───┤├───┤\n",
      "    q_1: ┤ X ├┤ H ├\n",
      "         └───┘└───┘\n",
      "    )\n",
      "  ]),\n",
      "  ComposedOp([\n",
      "    OperatorMeasurement(0.39793742 * IZ\n",
      "    - 0.3979374 * ZI\n",
      "    - 0.0112801 * ZZ),\n",
      "    CircuitStateFn(\n",
      "         ┌───┐\n",
      "    q_0: ┤ X ├\n",
      "         ├───┤\n",
      "    q_1: ┤ X ├\n",
      "         └───┘\n",
      "    )\n",
      "  ])\n",
      "])\n",
      "Sampled: -1.064713463691406\n"
     ]
    }
   ],
   "source": [
    "from qiskit import Aer\n",
    "from qiskit.utils import QuantumInstance\n",
    "\n",
    "backend = Aer.get_backend('qasm_simulator')\n",
    "qi = QuantumInstance(backend=backend, shots=1024)\n",
    "\n",
    "# Step 2: Define the statw to sample\n",
    "measurable_expression = StateFn(op, is_measurement=True).compose(psii)\n",
    "print(measurable_expression)\n",
    "\n",
    "# Step 3: Convert the expression to a sampler\n",
    "expectation = PauliExpectation().convert(measurable_expression)\n",
    "print(expectation)\n",
    "\n",
    "# get state sampler \n",
    "sampler = CircuitSampler(backend=backend).convert(expectation)\n",
    "\n",
    "# Step 4: Sample the state\n",
    "sampled_expectation = sampler.eval().real\n",
    "print(\"Sampled:\", sampled_expectation)"
   ]
  },
  {
   "cell_type": "code",
   "execution_count": 49,
   "metadata": {},
   "outputs": [
    {
     "name": "stdout",
     "output_type": "stream",
     "text": [
      "SummedOp([\n",
      "  ComposedOp([\n",
      "    OperatorMeasurement(0.18093119 * ZZ\n",
      "    - 1.0523732 * II),\n",
      "    CircuitStateFn(\n",
      "         ┌───┐┌───┐\n",
      "    q_0: ┤ X ├┤ H ├\n",
      "         ├───┤├───┤\n",
      "    q_1: ┤ X ├┤ H ├\n",
      "         └───┘└───┘\n",
      "    )\n",
      "  ]),\n",
      "  ComposedOp([\n",
      "    OperatorMeasurement(0.39793742 * IZ\n",
      "    - 0.3979374 * ZI\n",
      "    - 0.0112801 * ZZ),\n",
      "    CircuitStateFn(\n",
      "         ┌───┐\n",
      "    q_0: ┤ X ├\n",
      "         ├───┤\n",
      "    q_1: ┤ X ├\n",
      "         └───┘\n",
      "    )\n",
      "  ])\n",
      "])\n",
      "Snapshot:  -1.061886413847656\n"
     ]
    },
    {
     "name": "stderr",
     "output_type": "stream",
     "text": [
      "C:\\Users\\Owais\\AppData\\Local\\Temp\\ipykernel_24108\\1952905658.py:1: DeprecationWarning: The class ``qiskit.opflow.expectations.pauli_expectation.PauliExpectation`` is deprecated as of qiskit-terra 0.24.0. It will be removed no earlier than 3 months after the release date. For code migration guidelines, visit https://qisk.it/opflow_migration.\n",
      "  expectation = PauliExpectation().convert(measurable_expression)\n",
      "C:\\Users\\Owais\\AppData\\Local\\Temp\\ipykernel_24108\\1952905658.py:5: DeprecationWarning: The class ``qiskit.opflow.converters.circuit_sampler.CircuitSampler`` is deprecated as of qiskit-terra 0.24.0. It will be removed no earlier than 3 months after the release date. For code migration guidelines, visit https://qisk.it/opflow_migration.\n",
      "  sampler = CircuitSampler(backend=backend).convert(expectation)\n"
     ]
    }
   ],
   "source": [
    "expectation = PauliExpectation().convert(measurable_expression)\n",
    "print(expectation)\n",
    "\n",
    "# get state sampler\n",
    "sampler = CircuitSampler(backend=backend).convert(expectation)\n",
    "print(\"Snapshot: \", sampler.eval().real)"
   ]
  },
  {
   "cell_type": "code",
   "execution_count": 50,
   "metadata": {},
   "outputs": [
    {
     "name": "stdout",
     "output_type": "stream",
     "text": [
      "Matrix:  -1.0636533199999998\n"
     ]
    },
    {
     "name": "stderr",
     "output_type": "stream",
     "text": [
      "C:\\Users\\Owais\\AppData\\Local\\Temp\\ipykernel_24108\\4073710819.py:3: DeprecationWarning: The class ``qiskit.opflow.expectations.matrix_expectation.MatrixExpectation`` is deprecated as of qiskit-terra 0.24.0. It will be removed no earlier than 3 months after the release date. For code migration guidelines, visit https://qisk.it/opflow_migration.\n",
      "  expectation = MatrixExpectation().convert(measurable_expression)\n",
      "C:\\Users\\Owais\\AppData\\Local\\Temp\\ipykernel_24108\\4073710819.py:4: DeprecationWarning: The class ``qiskit.opflow.converters.circuit_sampler.CircuitSampler`` is deprecated as of qiskit-terra 0.24.0. It will be removed no earlier than 3 months after the release date. For code migration guidelines, visit https://qisk.it/opflow_migration.\n",
      "  sampler = CircuitSampler(backend=backend).convert(expectation)\n"
     ]
    }
   ],
   "source": [
    "from qiskit.opflow import MatrixExpectation, CircuitSampler\n",
    "\n",
    "expectation = MatrixExpectation().convert(measurable_expression)\n",
    "sampler = CircuitSampler(backend=backend).convert(expectation)\n",
    "print(\"Matrix: \", sampler.eval().real)"
   ]
  },
  {
   "cell_type": "code",
   "execution_count": 51,
   "metadata": {},
   "outputs": [
    {
     "name": "stdout",
     "output_type": "stream",
     "text": [
      "The expectation value is 0.9999999999999999\n"
     ]
    },
    {
     "name": "stderr",
     "output_type": "stream",
     "text": [
      "C:\\Users\\Owais\\AppData\\Local\\Temp\\ipykernel_24108\\1704070335.py:10: DeprecationWarning: The class ``qiskit.opflow.state_fns.circuit_state_fn.CircuitStateFn`` is deprecated as of qiskit-terra 0.24.0. It will be removed no earlier than 3 months after the release date. For code migration guidelines, visit https://qisk.it/opflow_migration.\n",
      "  psi = CircuitStateFn(qc)\n",
      "C:\\Users\\Owais\\AppData\\Local\\Temp\\ipykernel_24108\\1704070335.py:17: DeprecationWarning: The class ``qiskit.opflow.state_fns.operator_state_fn.OperatorStateFn`` is deprecated as of qiskit-terra 0.24.0. It will be removed no earlier than 3 months after the release date. For code migration guidelines, visit https://qisk.it/opflow_migration.\n",
      "  measurable_expression = StateFn(op, is_measurement=True).compose(psi)\n",
      "C:\\Users\\Owais\\AppData\\Local\\Temp\\ipykernel_24108\\1704070335.py:21: DeprecationWarning: The class ``qiskit.utils.quantum_instance.QuantumInstance`` is deprecated as of qiskit-terra 0.24.0. It will be removed no earlier than 3 months after the release date. For code migration guidelines, visit https://qisk.it/qi_migration.\n",
      "  qi = QuantumInstance(backend=backend, shots=1024)\n",
      "C:\\Users\\Owais\\AppData\\Local\\Temp\\ipykernel_24108\\1704070335.py:23: DeprecationWarning: The class ``qiskit.opflow.converters.circuit_sampler.CircuitSampler`` is deprecated as of qiskit-terra 0.24.0. It will be removed no earlier than 3 months after the release date. For code migration guidelines, visit https://qisk.it/opflow_migration.\n",
      "  sampler = CircuitSampler(qi)\n",
      "C:\\Users\\Owais\\AppData\\Local\\Temp\\ipykernel_24108\\1704070335.py:24: DeprecationWarning: The class ``qiskit.opflow.expectations.matrix_expectation.MatrixExpectation`` is deprecated as of qiskit-terra 0.24.0. It will be removed no earlier than 3 months after the release date. For code migration guidelines, visit https://qisk.it/opflow_migration.\n",
      "  expectation = MatrixExpectation().convert(measurable_expression)\n"
     ]
    }
   ],
   "source": [
    "from qiskit import QuantumCircuit, Aer\n",
    "from qiskit.opflow import CircuitStateFn, PauliSumOp, CircuitSampler, StateFn, MatrixExpectation\n",
    "from qiskit.utils import QuantumInstance\n",
    "\n",
    "# Step 1: Prepare the quantum state |Ψ⟩\n",
    "# For this example, we'll prepare a Bell state\n",
    "qc = QuantumCircuit(2)\n",
    "qc.h(0)\n",
    "qc.cx(0, 1)\n",
    "psi = CircuitStateFn(qc)\n",
    "\n",
    "# Step 2: Construct the operator HZH\n",
    "# HZH = Z in the X-basis\n",
    "op = PauliSumOp.from_list([('ZZ', 1)])\n",
    "\n",
    "# Step 3: Use the StateFn class to represent the state and the operator\n",
    "measurable_expression = StateFn(op, is_measurement=True).compose(psi)\n",
    "\n",
    "# Step 4: Use the CircuitSampler and MatrixExpectation classes to calculate the expectation value\n",
    "backend = Aer.get_backend('qasm_simulator')\n",
    "qi = QuantumInstance(backend=backend, shots=1024)\n",
    "\n",
    "sampler = CircuitSampler(qi)\n",
    "expectation = MatrixExpectation().convert(measurable_expression)\n",
    "sampled_expectation = sampler.convert(expectation)\n",
    "\n",
    "# Calculate the expectation value\n",
    "expectation_value = sampled_expectation.eval().real\n",
    "print(\"The expectation value is\", expectation_value)"
   ]
  },
  {
   "cell_type": "markdown",
   "metadata": {},
   "source": [
    "To calculate the expectation value of the operator M as defined in your equation, you can follow these steps:\n",
    "\n",
    "1. Prepare the quantum state |Ψ⟩. For this example, let's assume |Ψ⟩ is a Bell state.\n",
    "2. Construct the operators P+ and P-. In Qiskit, you can create these as PauliSumOp.\n",
    "3. Use the StateFn class to represent the state and the operators.\n",
    "4. Use the CircuitSampler and MatrixExpectation classes to calculate the expectation values.\n",
    "5. Add the expectation values of P+ and P- to get the expectation value of M.\n",
    "\n",
    "Now let's do coding"
   ]
  },
  {
   "cell_type": "code",
   "execution_count": 52,
   "metadata": {},
   "outputs": [
    {
     "name": "stdout",
     "output_type": "stream",
     "text": [
      "The expectation value of M is 1.9997691841774579\n"
     ]
    },
    {
     "name": "stderr",
     "output_type": "stream",
     "text": [
      "C:\\Users\\Owais\\AppData\\Local\\Temp\\ipykernel_24108\\3356517937.py:10: DeprecationWarning: The class ``qiskit.opflow.state_fns.circuit_state_fn.CircuitStateFn`` is deprecated as of qiskit-terra 0.24.0. It will be removed no earlier than 3 months after the release date. For code migration guidelines, visit https://qisk.it/opflow_migration.\n",
      "  psi = CircuitStateFn(qc)\n",
      "C:\\Users\\Owais\\AppData\\Local\\Temp\\ipykernel_24108\\3356517937.py:18: DeprecationWarning: The class ``qiskit.opflow.state_fns.operator_state_fn.OperatorStateFn`` is deprecated as of qiskit-terra 0.24.0. It will be removed no earlier than 3 months after the release date. For code migration guidelines, visit https://qisk.it/opflow_migration.\n",
      "  measurable_expression_plus = StateFn(p_plus, is_measurement=True).compose(psi)\n",
      "C:\\Users\\Owais\\AppData\\Local\\Temp\\ipykernel_24108\\3356517937.py:19: DeprecationWarning: The class ``qiskit.opflow.state_fns.operator_state_fn.OperatorStateFn`` is deprecated as of qiskit-terra 0.24.0. It will be removed no earlier than 3 months after the release date. For code migration guidelines, visit https://qisk.it/opflow_migration.\n",
      "  measurable_expression_minus = StateFn(p_minus, is_measurement=True).compose(psi)\n",
      "C:\\Users\\Owais\\AppData\\Local\\Temp\\ipykernel_24108\\3356517937.py:23: DeprecationWarning: The class ``qiskit.utils.quantum_instance.QuantumInstance`` is deprecated as of qiskit-terra 0.24.0. It will be removed no earlier than 3 months after the release date. For code migration guidelines, visit https://qisk.it/qi_migration.\n",
      "  qi = QuantumInstance(backend=backend, shots=1024)\n",
      "C:\\Users\\Owais\\AppData\\Local\\Temp\\ipykernel_24108\\3356517937.py:25: DeprecationWarning: The class ``qiskit.opflow.converters.circuit_sampler.CircuitSampler`` is deprecated as of qiskit-terra 0.24.0. It will be removed no earlier than 3 months after the release date. For code migration guidelines, visit https://qisk.it/opflow_migration.\n",
      "  sampler = CircuitSampler(qi)\n",
      "C:\\Users\\Owais\\AppData\\Local\\Temp\\ipykernel_24108\\3356517937.py:26: DeprecationWarning: The class ``qiskit.opflow.expectations.matrix_expectation.MatrixExpectation`` is deprecated as of qiskit-terra 0.24.0. It will be removed no earlier than 3 months after the release date. For code migration guidelines, visit https://qisk.it/opflow_migration.\n",
      "  expectation_plus = MatrixExpectation().convert(measurable_expression_plus)\n",
      "C:\\Users\\Owais\\AppData\\Local\\Temp\\ipykernel_24108\\3356517937.py:27: DeprecationWarning: The class ``qiskit.opflow.expectations.matrix_expectation.MatrixExpectation`` is deprecated as of qiskit-terra 0.24.0. It will be removed no earlier than 3 months after the release date. For code migration guidelines, visit https://qisk.it/opflow_migration.\n",
      "  expectation_minus = MatrixExpectation().convert(measurable_expression_minus)\n"
     ]
    }
   ],
   "source": [
    "from qiskit import QuantumCircuit, Aer\n",
    "from qiskit.opflow import CircuitStateFn, PauliSumOp, CircuitSampler, StateFn, MatrixExpectation\n",
    "from qiskit.utils import QuantumInstance\n",
    "\n",
    "# Step 1: Prepare the quantum state |Ψ⟩\n",
    "# For this example, we'll prepare a Bell state\n",
    "qc = QuantumCircuit(2)\n",
    "qc.h(0)\n",
    "qc.cx(0, 1)\n",
    "psi = CircuitStateFn(qc)\n",
    "\n",
    "# Step 2: Construct the operators P+ and P-\n",
    "# For this example, let's assume P+ is ZZ and P- is XX\n",
    "p_plus = PauliSumOp.from_list([('ZZ', 1)])\n",
    "p_minus = PauliSumOp.from_list([('XX', 1)])\n",
    "\n",
    "# Step 3: Use the StateFn class to represent the state and the operators\n",
    "measurable_expression_plus = StateFn(p_plus, is_measurement=True).compose(psi)\n",
    "measurable_expression_minus = StateFn(p_minus, is_measurement=True).compose(psi)\n",
    "\n",
    "# Step 4: Use the CircuitSampler and MatrixExpectation classes to calculate the expectation values\n",
    "backend = Aer.get_backend('qasm_simulator')\n",
    "qi = QuantumInstance(backend=backend, shots=1024)\n",
    "\n",
    "sampler = CircuitSampler(qi)\n",
    "expectation_plus = MatrixExpectation().convert(measurable_expression_plus)\n",
    "expectation_minus = MatrixExpectation().convert(measurable_expression_minus)\n",
    "sampled_expectation_plus = sampler.convert(expectation_plus)\n",
    "sampled_expectation_minus = sampler.convert(expectation_minus)\n",
    "\n",
    "# Calculate the expectation values\n",
    "expectation_value_plus = sampled_expectation_plus.eval().real\n",
    "expectation_value_minus = sampled_expectation_minus.eval().real\n",
    "\n",
    "# Step 5: Add the expectation values of P+ and P- to get the expectation value of M\n",
    "expectation_value_m = expectation_value_plus + expectation_value_minus\n",
    "print(\"The expectation value of M is\", expectation_value_m)"
   ]
  },
  {
   "cell_type": "markdown",
   "metadata": {},
   "source": [
    "$$\\langle\\Psi| M |\\Psi\\rangle = \\sum_{j}\\Psi_{j}{} \\langle m_{j} | M | ( \\sum_{i} \\Psi_{i} |m_{i} \\rangle )$$\n",
    "\n",
    "which is equal to \n",
    "$$\\langle\\Psi| M |\\Psi\\rangle = \\sum_{i,j} \\Psi_{j}^{*} * \\Psi_{i} * m_{i} \\langle m_{j} | m_{i} \\rangle $$\n",
    "\n",
    "$$\\langle\\Psi| M |\\Psi\\rangle = \\sum_{i} |\\Psi_{i}|^{2} m_[i] $$ \n",
    "\n",
    "where \n",
    "\n",
    "$$\\langle\\Psi| M |\\Psi\\rangle = \\sum_{i} P_{i} m_{i} $$\n",
    "\n",
    "$$\\langle M \\rangle = (+1)P_{+} - (-1)P_{-} = P_{+} + P_{-} $$"
   ]
  },
  {
   "cell_type": "markdown",
   "metadata": {},
   "source": [
    "The above equations we ve written describe the process of calculating the expectation value of an operator M in quantum mechanics. In the context of quantum computing, this process is often done by preparing a quantum state |Ψ⟩, applying the operator M, and then measuring the resulting state.\n",
    "\n",
    "In your case, M is defined as M = P+ - P-, where P+ and P- are projectors onto the +1 and -1 eigenstates of M, respectively. The expectation value of M is then given by ⟨M⟩ = ⟨Ψ|M|Ψ⟩ = P+ - P-"
   ]
  },
  {
   "cell_type": "code",
   "execution_count": 53,
   "metadata": {},
   "outputs": [
    {
     "name": "stdout",
     "output_type": "stream",
     "text": [
      "The expectation value of M is 4.7684852743090644e-05\n"
     ]
    },
    {
     "name": "stderr",
     "output_type": "stream",
     "text": [
      "C:\\Users\\Owais\\AppData\\Local\\Temp\\ipykernel_24108\\3501111290.py:10: DeprecationWarning: The class ``qiskit.opflow.state_fns.circuit_state_fn.CircuitStateFn`` is deprecated as of qiskit-terra 0.24.0. It will be removed no earlier than 3 months after the release date. For code migration guidelines, visit https://qisk.it/opflow_migration.\n",
      "  psi = CircuitStateFn(qc)\n",
      "C:\\Users\\Owais\\AppData\\Local\\Temp\\ipykernel_24108\\3501111290.py:18: DeprecationWarning: The class ``qiskit.opflow.state_fns.operator_state_fn.OperatorStateFn`` is deprecated as of qiskit-terra 0.24.0. It will be removed no earlier than 3 months after the release date. For code migration guidelines, visit https://qisk.it/opflow_migration.\n",
      "  measurable_expression_plus = StateFn(p_plus, is_measurement=True).compose(psi)\n",
      "C:\\Users\\Owais\\AppData\\Local\\Temp\\ipykernel_24108\\3501111290.py:19: DeprecationWarning: The class ``qiskit.opflow.state_fns.operator_state_fn.OperatorStateFn`` is deprecated as of qiskit-terra 0.24.0. It will be removed no earlier than 3 months after the release date. For code migration guidelines, visit https://qisk.it/opflow_migration.\n",
      "  measurable_expression_minus = StateFn(p_minus, is_measurement=True).compose(psi)\n",
      "C:\\Users\\Owais\\AppData\\Local\\Temp\\ipykernel_24108\\3501111290.py:23: DeprecationWarning: The class ``qiskit.utils.quantum_instance.QuantumInstance`` is deprecated as of qiskit-terra 0.24.0. It will be removed no earlier than 3 months after the release date. For code migration guidelines, visit https://qisk.it/qi_migration.\n",
      "  qi = QuantumInstance(backend=backend, shots=1024)\n",
      "C:\\Users\\Owais\\AppData\\Local\\Temp\\ipykernel_24108\\3501111290.py:25: DeprecationWarning: The class ``qiskit.opflow.converters.circuit_sampler.CircuitSampler`` is deprecated as of qiskit-terra 0.24.0. It will be removed no earlier than 3 months after the release date. For code migration guidelines, visit https://qisk.it/opflow_migration.\n",
      "  sampler = CircuitSampler(qi)\n",
      "C:\\Users\\Owais\\AppData\\Local\\Temp\\ipykernel_24108\\3501111290.py:26: DeprecationWarning: The class ``qiskit.opflow.expectations.matrix_expectation.MatrixExpectation`` is deprecated as of qiskit-terra 0.24.0. It will be removed no earlier than 3 months after the release date. For code migration guidelines, visit https://qisk.it/opflow_migration.\n",
      "  expectation_plus = MatrixExpectation().convert(measurable_expression_plus)\n",
      "C:\\Users\\Owais\\AppData\\Local\\Temp\\ipykernel_24108\\3501111290.py:27: DeprecationWarning: The class ``qiskit.opflow.expectations.matrix_expectation.MatrixExpectation`` is deprecated as of qiskit-terra 0.24.0. It will be removed no earlier than 3 months after the release date. For code migration guidelines, visit https://qisk.it/opflow_migration.\n",
      "  expectation_minus = MatrixExpectation().convert(measurable_expression_minus)\n"
     ]
    }
   ],
   "source": [
    "from qiskit import QuantumCircuit, Aer\n",
    "from qiskit.opflow import CircuitStateFn, PauliSumOp, CircuitSampler, StateFn, MatrixExpectation\n",
    "from qiskit.utils import QuantumInstance\n",
    "\n",
    "# Step 1: Prepare the quantum state |Ψ⟩\n",
    "# For this example, we'll prepare a Bell state\n",
    "qc = QuantumCircuit(2)\n",
    "qc.h(0)\n",
    "qc.cx(0, 1)\n",
    "psi = CircuitStateFn(qc)\n",
    "\n",
    "# Step 2: Construct the operators P+ and P-\n",
    "# For this example, let's assume P+ is ZZ and P- is XX\n",
    "p_plus = PauliSumOp.from_list([('ZZ', 1)])\n",
    "p_minus = PauliSumOp.from_list([('XX', 1)])\n",
    "\n",
    "# Step 3: Use the StateFn class to represent the state and the operators\n",
    "measurable_expression_plus = StateFn(p_plus, is_measurement=True).compose(psi)\n",
    "measurable_expression_minus = StateFn(p_minus, is_measurement=True).compose(psi)\n",
    "\n",
    "# Step 4: Use the CircuitSampler and MatrixExpectation classes to calculate the expectation values\n",
    "backend = Aer.get_backend('qasm_simulator')\n",
    "qi = QuantumInstance(backend=backend, shots=1024)\n",
    "\n",
    "sampler = CircuitSampler(qi)\n",
    "expectation_plus = MatrixExpectation().convert(measurable_expression_plus)\n",
    "expectation_minus = MatrixExpectation().convert(measurable_expression_minus)\n",
    "sampled_expectation_plus = sampler.convert(expectation_plus)\n",
    "sampled_expectation_minus = sampler.convert(expectation_minus)\n",
    "\n",
    "# Calculate the expectation values\n",
    "expectation_value_plus = sampled_expectation_plus.eval().real\n",
    "expectation_value_minus = sampled_expectation_minus.eval().real\n",
    "\n",
    "# Step 5: Subtract the expectation values of P- from P+ to get the expectation value of M\n",
    "expectation_value_m = expectation_value_plus - expectation_value_minus\n",
    "print(\"The expectation value of M is\", expectation_value_m)"
   ]
  }
 ],
 "metadata": {
  "kernelspec": {
   "display_name": "Python 3",
   "language": "python",
   "name": "python3"
  },
  "language_info": {
   "codemirror_mode": {
    "name": "ipython",
    "version": 3
   },
   "file_extension": ".py",
   "mimetype": "text/x-python",
   "name": "python",
   "nbconvert_exporter": "python",
   "pygments_lexer": "ipython3",
   "version": "3.8.10"
  }
 },
 "nbformat": 4,
 "nbformat_minor": 2
}
